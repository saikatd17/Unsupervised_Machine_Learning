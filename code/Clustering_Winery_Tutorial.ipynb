{
 "cells": [
  {
   "cell_type": "markdown",
   "id": "89ad033a",
   "metadata": {},
   "source": [
    "# Chateau Winery (A): Unsupervised Learning"
   ]
  },
  {
   "cell_type": "markdown",
   "id": "8855db13",
   "metadata": {},
   "source": [
    "## Step 1. Import libraries"
   ]
  },
  {
   "cell_type": "code",
   "execution_count": null,
   "id": "755ac7e4",
   "metadata": {},
   "outputs": [],
   "source": [
    "#Import all the standard libraries\n",
    "import pandas as pd\n",
    "import numpy as np\n",
    "import matplotlib.pyplot as plt\n",
    "import seaborn as sns\n",
    "\n",
    "#Import specific libraries for k-Means clustering\n",
    "from sklearn.cluster import ? # ? KMeans\n",
    "\n",
    "from sklearn.metrics import silhouette_score\n",
    "\n",
    "#suppress warnings\n",
    "import warnings\n",
    "warnings.filterwarnings('ignore')"
   ]
  },
  {
   "cell_type": "code",
   "execution_count": null,
   "id": "88122750",
   "metadata": {},
   "outputs": [],
   "source": [
    "# Step 1: Read data into wine_data\n",
    "wine_data = pd.?(\"wine_data.csv\") # ? read_csv\n",
    "\n",
    "# Step 2: Display first ten rows of data\n",
    "wine_data.head(?) # ? 10"
   ]
  },
  {
   "cell_type": "code",
   "execution_count": null,
   "id": "d4af4e30",
   "metadata": {},
   "outputs": [],
   "source": [
    "#Check the shape of the data\n",
    "wine_data.? # ? shape"
   ]
  },
  {
   "cell_type": "markdown",
   "id": "7a46543f",
   "metadata": {},
   "source": [
    "## Step 2: Visualize data\n",
    "\n",
    "Before we start clustering, let's begin by creating a scatterplot of our data. "
   ]
  },
  {
   "cell_type": "code",
   "execution_count": null,
   "id": "46ac01f7",
   "metadata": {},
   "outputs": [],
   "source": [
    "# Create scatter plot with Pinot Noir on the x-axis and Champagne on the y-axis\n",
    "\n",
    "plt.scatter(x=wine_data['Pinot Noir'],y=wine_data['Champagne'])\n",
    "\n",
    "# Add a title to the plot\n",
    "plt.title(\"Exhibit 2A: The Data\")\n",
    "\n",
    "# Add labels for the x and y axes\n",
    "plt.xlabel(\"Pinot Noir\")\n",
    "plt.ylabel(\"Champagne\")\n",
    "\n",
    "plt.show()"
   ]
  },
  {
   "cell_type": "markdown",
   "id": "73e6d70d",
   "metadata": {},
   "source": [
    "## Step 3. Clustering"
   ]
  },
  {
   "cell_type": "markdown",
   "id": "2626809b",
   "metadata": {},
   "source": [
    "### K-Means cluster with k = 2\n",
    "Next we can easily apply the k-means algorithm in Python using tools from the  `sklearn.cluster`  module we imported at the beginning of the notebook.\n",
    "\n",
    "Initialize clustering\n",
    "First we need to create a  KMeans  object (which we'll call  kmeans2 ) and specify our desired value for the number of clusters ( k ). We do this using  `KMeans()`, which takes the following arguments:\n",
    "\n",
    "* `n_clusters` , our desired value for  k .\n",
    "* `init` , an optional parameter with the starting points for the cluster centroids. If this parameter is left out, the initial centroids will be chosen automatically. See the documentation here for more details.\n",
    "* `n_init` , an optional parameter that specifies the number of times the algorithm is run with different starting points. Because we are only running with the initial cluster centroids specified on page 3 of the case, we set this parameter to one."
   ]
  },
  {
   "cell_type": "code",
   "execution_count": null,
   "id": "58f3858d",
   "metadata": {},
   "outputs": [],
   "source": [
    "kmeans2 = KMeans(n_clusters=2, init=np.array([[8, 17],[27, 1]]), n_init=1)"
   ]
  },
  {
   "cell_type": "code",
   "execution_count": null,
   "id": "82231bd9",
   "metadata": {},
   "outputs": [],
   "source": [
    "# Since, KMeans function prefer data in numpy array, let's create an array with data required and convert it into array using .to_numpy()\n",
    "\n",
    "X_wine = wine_data[['Pinot Noir', 'Champagne']].? # ? to_numpy()\n"
   ]
  },
  {
   "cell_type": "code",
   "execution_count": null,
   "id": "fe00f665",
   "metadata": {},
   "outputs": [],
   "source": [
    "# Check the first 5 elements of the array\n",
    "\n",
    "X_wine[?]    # ? 0:5"
   ]
  },
  {
   "cell_type": "markdown",
   "id": "459c7597",
   "metadata": {},
   "source": [
    "### Now perform the clustering..."
   ]
  },
  {
   "cell_type": "code",
   "execution_count": null,
   "id": "37b6db86",
   "metadata": {},
   "outputs": [],
   "source": [
    "# Fit the model and generate the clusters\n",
    "\n",
    "kmeans2.?(X_wine)  # ? fit"
   ]
  },
  {
   "cell_type": "code",
   "execution_count": null,
   "id": "75d0b650",
   "metadata": {},
   "outputs": [],
   "source": [
    "#Cluster membership - Get lables\n",
    "\n",
    "kmeans2.? # ? labels_"
   ]
  },
  {
   "cell_type": "markdown",
   "id": "98afc077",
   "metadata": {},
   "source": [
    "### You can look at the centroid of the clusters formed"
   ]
  },
  {
   "cell_type": "code",
   "execution_count": null,
   "id": "b49d2260",
   "metadata": {},
   "outputs": [],
   "source": [
    "#look at the cluster centers\n",
    "\n",
    "kmeans2.? # ? cluster_centers_"
   ]
  },
  {
   "cell_type": "markdown",
   "id": "ee28e0a8",
   "metadata": {},
   "source": [
    "### Now create a scatterplot with different colors based on the clusters and mark the centroid of the clusters"
   ]
  },
  {
   "cell_type": "code",
   "execution_count": null,
   "id": "fc614af5",
   "metadata": {},
   "outputs": [],
   "source": [
    "#plt.figure(figsize=(10,10))\n",
    "\n",
    "# Plot chart title and label the x and y axes\n",
    "plt.title(\"Exhibit 2D: Final Centroid Locations\")\n",
    "plt.xlabel(\"Pinot Noir\")\n",
    "plt.ylabel(\"Champagne\")\n",
    "\n",
    "# Plot the observations color-coded by cluster\n",
    "plt.scatter(x=wine_data['Pinot Noir'], y=wine_data['Champagne'], \n",
    "            c=kmeans2.labels_)\n",
    "\n",
    "# Plot the final cluster centroids in black\n",
    "plt.scatter(kmeans2.cluster_centers_[:,0] ,kmeans2.cluster_centers_[:,1], marker=\"X\", \n",
    "            color='black',s=200)  # scatter plot between x and y coordinates of the cluster centers'; kmeans2.cluster_centers_[:,0] denotes the x-coordinates and kmeans2.cluster_centers_[:,1] denotes the y-coordinates\n",
    "\n",
    "plt.show()"
   ]
  },
  {
   "cell_type": "code",
   "execution_count": null,
   "id": "0549b7af",
   "metadata": {},
   "outputs": [],
   "source": [
    "# Labels assigned to each customer\n",
    "\n",
    "kmeans2.? # ? labels_"
   ]
  },
  {
   "cell_type": "code",
   "execution_count": null,
   "id": "69e8f014",
   "metadata": {},
   "outputs": [],
   "source": [
    "# Adding a column Cluster to the dataframe\n",
    "\n",
    "wine_data['Cluster']=kmeans2.labels_+1\n",
    "\n",
    "wine_data"
   ]
  },
  {
   "cell_type": "code",
   "execution_count": null,
   "id": "a57e059a",
   "metadata": {},
   "outputs": [],
   "source": [
    "# Replace the index by the name\n",
    "\n",
    "wine_data.set_index('name', inplace = True)"
   ]
  },
  {
   "cell_type": "code",
   "execution_count": null,
   "id": "c9ae9680",
   "metadata": {},
   "outputs": [],
   "source": [
    "# Generate the silhouette_score\n",
    "\n",
    "print('Silhouette Score(n=2):',round(silhouette_score(wine_data,kmeans2.labels_),2))"
   ]
  },
  {
   "cell_type": "markdown",
   "id": "956953a3",
   "metadata": {},
   "source": [
    "## Step 4. Now you can play a little with different number of clusters and see how they look"
   ]
  },
  {
   "cell_type": "code",
   "execution_count": null,
   "id": "d7cb6498",
   "metadata": {},
   "outputs": [],
   "source": [
    "k = 2 # <-- replace \"2\" with your desired number of clusters\n",
    "\n",
    "####### Step 4a: Initialize clustering #########################################\n",
    "kmeansK = KMeans(n_clusters=k, random_state=123)\n",
    "\n",
    "\n",
    "####### Step 4b: Prepare input data ############################################\n",
    "# Nothing to do here, as X_wine was already created earlier\n",
    "\n",
    "\n",
    "####### Step 4c: Perform k-means clustering ####################################\n",
    "kmeansK.fit(X_wine)\n",
    "\n",
    "\n",
    "####### Step 4d: View output ###################################################\n",
    "# Plot chart title and label the x and y axes\n",
    "plt.title(\"Optimized clusters, k=\"+str(k))\n",
    "plt.xlabel(\"Pinot Noir\")\n",
    "plt.ylabel(\"Champagne\")\n",
    "\n",
    "# Plot the observations color-coded by cluster\n",
    "plt.scatter(x=wine_data['Pinot Noir'],y=wine_data['Champagne'], c=kmeansK.labels_)\n",
    "\n",
    "# Plot the final cluster centroids in black\n",
    "plt.scatter(x=kmeansK.cluster_centers_[:,0] ,y=kmeansK.cluster_centers_[:,1], marker=\"X\", \n",
    "            color='black', s=200)\n",
    "\n",
    "plt.show()"
   ]
  },
  {
   "cell_type": "markdown",
   "id": "4cdbb660",
   "metadata": {},
   "source": [
    "## Step 5. Choosing Clusters through Cluster Quality Measures"
   ]
  },
  {
   "cell_type": "markdown",
   "id": "d35905a7",
   "metadata": {},
   "source": [
    "Let us try to answer the question of optimum number of clusters, k in this data.\n",
    "\n",
    "There are two methods for understanding cluster quality, Elbow method (number of clusters at which the cost function wcss (within cluster sum of squared) is minimum)\n",
    "\n",
    "The other method is Silhouette score which is a measure of how similar an object is to its own cluster compared to other clusters.\n",
    "\n",
    "Overall silhouette score is measure of cluster separability."
   ]
  },
  {
   "cell_type": "markdown",
   "id": "e439c5bb",
   "metadata": {},
   "source": [
    "### Method 1: Elbow Method\n",
    "\n",
    "kmeans.inertia_ => total within cluster sum of squared\n",
    "\n",
    "kmeans.inertia_ / i => mean WCSS for each cluster"
   ]
  },
  {
   "cell_type": "code",
   "execution_count": null,
   "id": "ee724aa7",
   "metadata": {},
   "outputs": [],
   "source": [
    "# For getting WCSS for different values of k, k-Means shall be performed with a For loop.\n",
    "\n",
    "wcss = [ ] # Initialize empty list to store WCSS\n",
    "\n",
    "\n",
    "# Loop over different values of k starting from 2 clusters to 50 clusters and calculate the wcss\n",
    "for i in range(2, 50):\n",
    "    # Initialize clustering with k = i\n",
    "    kmeansI = KMeans(n_clusters=i, random_state=123) # initialize clustering algorithm/ model\n",
    "    \n",
    "    # Apply clustering\n",
    "    kmeansI.fit(X_wine)\n",
    "    \n",
    "    # Calculate WCSS and add to list for each value of number of clusters,k from 2 to 50\n",
    "    wcss.append(kmeansI.inertia_ / i)\n"
   ]
  },
  {
   "cell_type": "code",
   "execution_count": null,
   "id": "8e053f63",
   "metadata": {},
   "outputs": [],
   "source": [
    "# Plot the WCSS for each cluster solution from 2 to 50.\n",
    "\n",
    "plt.plot(range(2, 50),wcss)\n",
    "plt.xlabel('Number of clusters')\n",
    "plt.ylabel('WCSS')\n",
    "#plt.xticks(np.arange(0,50,5)) # to set axis ticks to 5, by default it is set at 10\n",
    "plt.show()"
   ]
  },
  {
   "cell_type": "markdown",
   "id": "e820c774",
   "metadata": {},
   "source": [
    "### Method 2: Silhouette Score"
   ]
  },
  {
   "cell_type": "code",
   "execution_count": null,
   "id": "d5280fee",
   "metadata": {},
   "outputs": [],
   "source": [
    "silhouette_scores = [] # Initialize empty list to store silhouette scores\n",
    "\n",
    "# Loop over different values of k and calculate the average silhouette score\n",
    "for i in range(2, 50):\n",
    "    \n",
    "    # Initialize clustering with k = i\n",
    "    kmeansI = KMeans(n_clusters=i, random_state=123)\n",
    "    \n",
    "    # Apply clustering\n",
    "    kmeansI.fit(X_wine)\n",
    "    \n",
    "    # Calculate the silhouette score when k = i\n",
    "    labelsI = kmeansI.fit_predict(X_wine)\n",
    "    scoreI = silhouette_score(X_wine, labelsI)\n",
    "    \n",
    "    # Add silhouette score at k = i to silhouette_scores\n",
    "    silhouette_scores.append((i, scoreI))"
   ]
  },
  {
   "cell_type": "code",
   "execution_count": null,
   "id": "be85780c",
   "metadata": {},
   "outputs": [],
   "source": [
    "df_scores = pd.DataFrame(silhouette_scores)"
   ]
  },
  {
   "cell_type": "code",
   "execution_count": null,
   "id": "3ffdd3b7",
   "metadata": {},
   "outputs": [],
   "source": [
    "# Plot the average silhouette score for each value of k\n",
    "#x,y = zip(*silhouette_scores)\n",
    "#plt.plot(x, y)\n",
    "\n",
    "plt.plot(df_scores[0],df_scores[1])\n",
    "\n",
    "plt.plot()\n",
    "\n",
    "# Label the chart and the x and y axes\n",
    "\n",
    "plt.title(\"Silhouette Plot\")\n",
    "plt.xlabel(\"Number of Clusters (k)\")\n",
    "plt.xlim([2,50])\n",
    "plt.xticks(np.arange(0,51,5))\n",
    "plt.ylabel(\"Average Silhouette Score\")\n",
    "plt.show()"
   ]
  },
  {
   "cell_type": "markdown",
   "id": "838989df",
   "metadata": {},
   "source": [
    "## Clustering (An alternative Approach)"
   ]
  },
  {
   "cell_type": "markdown",
   "id": "dc4e69c3",
   "metadata": {},
   "source": [
    "### Hierarchical/Agglomerative Clustering"
   ]
  },
  {
   "cell_type": "code",
   "execution_count": null,
   "id": "a0c06c4e",
   "metadata": {},
   "outputs": [],
   "source": [
    "# for hierarchial clustering\n",
    "# from scipy.cluster.hierarchy import dendrogram, linkage, fcluster\n",
    "\n",
    "from scipy.cluster.hierarchy import ?, linkage, fcluster # ? dendrogram"
   ]
  },
  {
   "cell_type": "code",
   "execution_count": null,
   "id": "ea82a88d",
   "metadata": {},
   "outputs": [],
   "source": [
    "# Step 1: Read data into wine_data dataframe\n",
    "wine_data = pd.read_csv(\"wine_data.csv\") \n",
    "# Set index as name\n",
    "wine_data.set_index('name', inplace = True)\n",
    "# Check how the dataframe looks\n",
    "wine_data.head() # head() by default shows the first 5 rows in the dataframe"
   ]
  },
  {
   "cell_type": "code",
   "execution_count": null,
   "id": "4a9c279f",
   "metadata": {},
   "outputs": [],
   "source": [
    "# Generate cluster linkages\n",
    "\n",
    "Z = linkage(wine_data, method = 'ward') # method can take different parameter values like 'single', 'complete'"
   ]
  },
  {
   "cell_type": "code",
   "execution_count": null,
   "id": "dab769ce",
   "metadata": {},
   "outputs": [],
   "source": [
    "# Add the cluster generated from Hierarchical to the Wine_data dataframe\n",
    "\n",
    "wine_data[\"Hierarchical\"] = fcluster(Z, 3, criterion = 'maxclust')\n",
    "\n",
    "pd.set_option('display.max_rows', None) # to display all rows of the dataframe\n",
    "\n",
    "wine_data"
   ]
  },
  {
   "cell_type": "code",
   "execution_count": null,
   "id": "dab4595b",
   "metadata": {},
   "outputs": [],
   "source": [
    "#Plot dendrogram\n",
    "plt.figure(figsize=(5,3),dpi=250)\n",
    "\n",
    "?(Z, labels = wine_data.index) #? dendrogram\n",
    "\n",
    "plt.show()"
   ]
  },
  {
   "cell_type": "markdown",
   "id": "a881883a",
   "metadata": {},
   "source": [
    "## Compare the output of k-Means and Hierarchial Clustering with 3 clusters\n",
    "Note: Re-Run the kmeansK with k =3 in step 4 and then execute this code"
   ]
  },
  {
   "cell_type": "code",
   "execution_count": null,
   "id": "a529823f",
   "metadata": {},
   "outputs": [],
   "source": [
    "k = 3 # <-- initialize k with your desired number of clusters\n",
    "\n",
    "####### Step 4a: Initialize clustering #########################################\n",
    "kmeansK = KMeans(n_clusters=k, random_state=123)\n",
    "\n",
    "\n",
    "####### Step 4b: Prepare input data ############################################\n",
    "# Nothing to do here, as X_wine was already created earlier\n",
    "\n",
    "\n",
    "####### Step 4c: Perform k-means clustering ####################################\n",
    "kmeansK.fit(X_wine)\n",
    "\n",
    "\n",
    "####### Step 4d: View output ###################################################\n",
    "# Plot chart title and label the x and y axes\n",
    "plt.title(\"Optimized clusters, k=\"+str(k))\n",
    "plt.xlabel(\"Pinot Noir\")\n",
    "plt.ylabel(\"Champagne\")\n",
    "\n",
    "# Plot the observations color-coded by cluster\n",
    "plt.scatter(x=wine_data['Pinot Noir'],y=wine_data['Champagne'], c=kmeansK.labels_)\n",
    "\n",
    "# Plot the final cluster centroids in black\n",
    "plt.scatter(x=kmeansK.cluster_centers_[:,0] ,y=kmeansK.cluster_centers_[:,1], marker=\"X\", \n",
    "            color='black', s=200)\n",
    "\n",
    "plt.show()"
   ]
  },
  {
   "cell_type": "code",
   "execution_count": null,
   "id": "e72aff2b",
   "metadata": {},
   "outputs": [],
   "source": [
    "fig, (ax1, ax2) = plt.subplots(1, 2, figsize=(20,10))\n",
    "\n",
    "fig.suptitle('k-Means vs Hierarchical')\n",
    "\n",
    "ax1.scatter(x=wine_data['Pinot Noir'],y=wine_data['Champagne'], \n",
    "            c=kmeansK.labels_)\n",
    "\n",
    "ax1.set_title(\"k-means (k =3)\")\n",
    "\n",
    "ax2.scatter(x=wine_data['Pinot Noir'], y=wine_data['Champagne'], \n",
    "            c=wine_data[\"Hierarchical\"])\n",
    "ax2.set_title(\"Hierarchical (n =3)\")\n",
    "\n",
    "plt.show()"
   ]
  },
  {
   "cell_type": "code",
   "execution_count": null,
   "id": "3feebd60",
   "metadata": {},
   "outputs": [],
   "source": [
    "wine_data[\"K-Means(k=3)\"] = kmeansK.labels_\n",
    "\n",
    "wine_data.head(10)"
   ]
  },
  {
   "cell_type": "markdown",
   "id": "a31309f6",
   "metadata": {},
   "source": [
    "### Now plot again with a circle around the differing clusters"
   ]
  },
  {
   "cell_type": "code",
   "execution_count": null,
   "id": "e48d3314",
   "metadata": {},
   "outputs": [],
   "source": [
    "# Now plot again with a circle around the differing clusters\n",
    "\n",
    "fig, (ax1, ax2) = plt.subplots(1, 2, figsize=(20,10))\n",
    "\n",
    "fig.suptitle('k-Means vs Hierarchical')\n",
    "\n",
    "ax1.scatter(wine_data['Pinot Noir'], wine_data['Champagne'], \n",
    "            c=kmeansK.labels_)\n",
    "\n",
    "ax1.set_title(\"k-means (k =3)\")\n",
    "\n",
    "ax2.scatter(wine_data['Pinot Noir'], wine_data['Champagne'], \n",
    "            c=wine_data[\"Hierarchical\"])\n",
    "\n",
    "ax2.scatter([24,17,13] ,[24,21,3], facecolors='none', edgecolors='blue', s=300)\n",
    "\n",
    "ax2.set_title(\"Hierarchical (n =3)\")\n",
    "\n",
    "plt.show()"
   ]
  }
 ],
 "metadata": {
  "kernelspec": {
   "display_name": "Python 3 (ipykernel)",
   "language": "python",
   "name": "python3"
  },
  "language_info": {
   "codemirror_mode": {
    "name": "ipython",
    "version": 3
   },
   "file_extension": ".py",
   "mimetype": "text/x-python",
   "name": "python",
   "nbconvert_exporter": "python",
   "pygments_lexer": "ipython3",
   "version": "3.9.12"
  }
 },
 "nbformat": 4,
 "nbformat_minor": 5
}
