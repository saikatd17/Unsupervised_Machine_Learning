{
 "cells": [
  {
   "cell_type": "markdown",
   "id": "6a63566c",
   "metadata": {},
   "source": [
    "# Import Libraries\n",
    "\n",
    "\n"
   ]
  },
  {
   "cell_type": "code",
   "execution_count": null,
   "id": "cca5ae78",
   "metadata": {},
   "outputs": [],
   "source": [
    "# Importing required libraries\n",
    "\n",
    "# np, pd are for data analysis\n",
    "import ? as np\n",
    "import pandas as pd\n",
    "\n",
    "# plt,sns for data visualization\n",
    "import matplotlib.pyplot as plt\n",
    "import ? as sns\n",
    "\n",
    "# the matplotlib plots will appear directly below the cell in which the plot function was called\n",
    "%matplotlib inline\n",
    "\n",
    "# suppress warnings\n",
    "import warnings\n",
    "warnings.filterwarnings('ignore')"
   ]
  },
  {
   "cell_type": "markdown",
   "id": "3edfbaa9",
   "metadata": {},
   "source": [
    "# Read the CSV File\n",
    "\n",
    "Pandas library has provided different methods for loading datasets with many different formats onto DataFrames. For example: read_csv to read comma separated values. read_json to read data with json format. read_fwf to read data with fixed width format. read_excel to read excel files. read_table to read database tables. "
   ]
  },
  {
   "cell_type": "code",
   "execution_count": null,
   "id": "ed92a67c",
   "metadata": {},
   "outputs": [],
   "source": [
    "# Read the dataset\n",
    "\n",
    "df_cereals = pd.?('cereal.csv')"
   ]
  },
  {
   "cell_type": "code",
   "execution_count": null,
   "id": "9f67023d",
   "metadata": {},
   "outputs": [],
   "source": [
    "# what is the type?\n",
    "\n",
    "?"
   ]
  },
  {
   "cell_type": "markdown",
   "id": "c60e8a46",
   "metadata": {},
   "source": [
    "# Explore the Data"
   ]
  },
  {
   "cell_type": "code",
   "execution_count": null,
   "id": "4a45e58e",
   "metadata": {},
   "outputs": [],
   "source": [
    "# Attributes of a data frame\n",
    "\n",
    "?"
   ]
  },
  {
   "cell_type": "markdown",
   "id": "7abcaf00",
   "metadata": {},
   "source": [
    "A quick way to check out the contents of a data frame is by calling the first 5 rows using the .head() method without specifying the argument within brackets.\n"
   ]
  },
  {
   "cell_type": "code",
   "execution_count": null,
   "id": "ec6a1f8e",
   "metadata": {},
   "outputs": [],
   "source": [
    "# How does the data look?\n",
    "\n",
    "?"
   ]
  },
  {
   "cell_type": "markdown",
   "id": "8cd7d9ff",
   "metadata": {},
   "source": [
    "In order to quickly generate a table of data types contained within each column, we use the .info() method."
   ]
  },
  {
   "cell_type": "code",
   "execution_count": null,
   "id": "1542f661",
   "metadata": {},
   "outputs": [],
   "source": [
    "df_cereals.?"
   ]
  },
  {
   "cell_type": "code",
   "execution_count": null,
   "id": "2c34a70e",
   "metadata": {},
   "outputs": [],
   "source": [
    "# How can we generate a summary statistics for each numerical column in the data frame? describe\n",
    "\n",
    "df_cereals.?"
   ]
  },
  {
   "cell_type": "markdown",
   "id": "743ec519",
   "metadata": {},
   "source": [
    "# Visualize the Data"
   ]
  },
  {
   "cell_type": "code",
   "execution_count": null,
   "id": "d27d2932",
   "metadata": {},
   "outputs": [],
   "source": [
    "# Draw a barplot\n",
    "sns.?(x='type',y='rating',data=df_cereals)\n"
   ]
  },
  {
   "cell_type": "code",
   "execution_count": null,
   "id": "309c2249",
   "metadata": {},
   "outputs": [],
   "source": [
    "# Draw a histogram\n",
    "\n",
    "plt.hist(df_cereals['rating'])\n"
   ]
  },
  {
   "cell_type": "code",
   "execution_count": null,
   "id": "f91d565d",
   "metadata": {},
   "outputs": [],
   "source": [
    "# Draw distribution or density plot\n",
    "\n",
    "sns.distplot(df_cereals['rating'])"
   ]
  },
  {
   "cell_type": "code",
   "execution_count": null,
   "id": "1885430a",
   "metadata": {},
   "outputs": [],
   "source": [
    "# Draw boxplot\n",
    "\n",
    "plt.boxplot(df_cereals['rating'])\n",
    "\n",
    "# Can you draw using sns?\n",
    "sns.?(data=df_cereals,y='rating')"
   ]
  },
  {
   "cell_type": "code",
   "execution_count": null,
   "id": "c4b6da4a",
   "metadata": {},
   "outputs": [],
   "source": [
    "# Draw scatterplot\n",
    "\n",
    "plt.scatter(x=df_cereals['calories'],y=df_cereals['sugars'])\n",
    "\n",
    "# What if you want to know the trend?\n",
    "\n",
    "sns.?(x='calories',y='sugars',data=df_cereals)"
   ]
  }
 ],
 "metadata": {
  "kernelspec": {
   "display_name": "Python 3 (ipykernel)",
   "language": "python",
   "name": "python3"
  },
  "language_info": {
   "codemirror_mode": {
    "name": "ipython",
    "version": 3
   },
   "file_extension": ".py",
   "mimetype": "text/x-python",
   "name": "python",
   "nbconvert_exporter": "python",
   "pygments_lexer": "ipython3",
   "version": "3.9.12"
  }
 },
 "nbformat": 4,
 "nbformat_minor": 5
}
