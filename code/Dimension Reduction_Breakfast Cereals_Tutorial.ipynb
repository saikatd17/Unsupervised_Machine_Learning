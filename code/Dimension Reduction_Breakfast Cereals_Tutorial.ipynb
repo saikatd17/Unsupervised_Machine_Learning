{
 "cells": [
  {
   "cell_type": "markdown",
   "metadata": {},
   "source": [
    "# Import Packages"
   ]
  },
  {
   "cell_type": "code",
   "execution_count": null,
   "metadata": {
    "id": "MOgAEhRMVPmI"
   },
   "outputs": [],
   "source": [
    "\n",
    "import ? as np # ? numpy\n",
    "import pandas as pd\n",
    "\n",
    "import ? as plt # ? matplotlib.pyplot\n",
    "import seaborn as sns\n",
    "%matplotlib inline\n",
    "\n",
    "#library for PCA (new library imported for PCA)\n",
    "from ? import PCA # ? sklearn.decomposition\n",
    "#library for Standardization\n",
    "from sklearn import ? # ? preprocessing"
   ]
  },
  {
   "cell_type": "markdown",
   "metadata": {
    "id": "UikxTodmXo28"
   },
   "source": [
    "# Dataset: Breakfast Cereals\n",
    "Data were collected on the nutrional information and consumer rating of 77 breakfast cereals. The data are available [here](http://lib.stat.cmu.edu/datasets/1993.expo/). The consumer rating is a rating of cereal “healthiness” for consumer information (not a rating by consumers). For each cereal, the data include 13 numerical variables, and we are interested in reducing this dimension. For each cereal, the information is based on a bowl of cereal rather than a serving size, because most people simply fill a cereal bowl (resulting in constant volume, but not weight). \n",
    "\n",
    "## Description of the Variables in the Breakfast Cereal Dataset\n",
    "\n",
    "**Variable: Description**\n",
    "* mfr: Manufacturer of cereal (American Home Food Products, General Mills, Kellogg, etc.)\n",
    "* type: Cold or hot\n",
    "* calories: Calories per serving\n",
    "* protein: Grams of protein\n",
    "* fat: Grams of fat\n",
    "* sodium: Milligrams of sodium\n",
    "* fiber: Grams of dietary fiber\n",
    "* carbo: Grams of complex carbohydrates\n",
    "* sugars: Grams of sugars\n",
    "* potass: Milligrams of potassium\n",
    "* vitamins: Vitamins and minerals: 0, 25, or 100, indicating the typical percentage of FDA  recommended\n",
    "* shelf: Display shelf (1, 2, or 3, counting from the floor)\n",
    "* weight: Weight in ounces of one serving\n",
    "* cups: Number of cups in one serving\n",
    "* rating: Rating of the cereal calculated by consumer reports\n",
    "\n"
   ]
  },
  {
   "cell_type": "code",
   "execution_count": null,
   "metadata": {
    "colab": {
     "base_uri": "https://localhost:8080/",
     "height": 363
    },
    "id": "CIG15z4vXnhk",
    "outputId": "c1d2e7fe-bbb9-40fc-c34b-b038275a9e60"
   },
   "outputs": [],
   "source": [
    "cereals_df = pd.read_csv(?) # ? 'cereal.csv'\n",
    "cereals_df.head()   # ? 10"
   ]
  },
  {
   "cell_type": "markdown",
   "metadata": {},
   "source": [
    "## Summary Statistics"
   ]
  },
  {
   "cell_type": "code",
   "execution_count": null,
   "metadata": {},
   "outputs": [],
   "source": [
    "cereals_df.? # ? describe() can be used to check skewness"
   ]
  },
  {
   "cell_type": "code",
   "execution_count": null,
   "metadata": {},
   "outputs": [],
   "source": [
    "# what about categorical variables?\n",
    "\n",
    "cereals_df[?].describe() # ? 'mfr'   "
   ]
  },
  {
   "cell_type": "code",
   "execution_count": null,
   "metadata": {},
   "outputs": [],
   "source": [
    "# how to check difference in mean, median etc by each category?\n",
    "\n",
    "cereals_df.groupby('mfr').median() # to distinguish between different category"
   ]
  },
  {
   "cell_type": "code",
   "execution_count": null,
   "metadata": {},
   "outputs": [],
   "source": [
    "# Is there any similar catgories based on mean, median?\n",
    "\n",
    "cereals_df[cereals_df['mfr'].isin([?])].groupby('mfr').mean() # ? 'R','G'"
   ]
  },
  {
   "cell_type": "markdown",
   "metadata": {},
   "source": [
    "### Visualizing the underlying probability density function"
   ]
  },
  {
   "cell_type": "code",
   "execution_count": null,
   "metadata": {},
   "outputs": [],
   "source": [
    "# How does the underlying pdf look for each continous variable?\n",
    "\n",
    "sns.?(cereals_df, x=\"calories\", kind=\"kde\") # distplot\n",
    "# sns.displot(cereals_df, x=\"protein\", kind=\"kde\")\n",
    "\n",
    "# Is there skewness?\n",
    "sns.displot(cereals_df[?],kind='kde') # ? 'fiber', mean larger than median (right skewed)\n",
    "\n",
    "# Reference: https://seaborn.pydata.org/tutorial/distributions.html"
   ]
  },
  {
   "cell_type": "markdown",
   "metadata": {},
   "source": [
    "## Correlation Analysis"
   ]
  },
  {
   "cell_type": "code",
   "execution_count": null,
   "metadata": {},
   "outputs": [],
   "source": [
    "# to apply correlation 1. columns should be numeric 2. there should be no missing value\n",
    "# let's check\n",
    "\n",
    "cereals_df.? # ? info()"
   ]
  },
  {
   "cell_type": "code",
   "execution_count": null,
   "metadata": {
    "colab": {
     "base_uri": "https://localhost:8080/",
     "height": 457
    },
    "id": "SZZYGM7Jl0Z4",
    "outputId": "aa4b7baa-8a3e-4ca7-8121-ae5c451781c1"
   },
   "outputs": [],
   "source": [
    "#To apply correlation\n",
    "\n",
    "# cereals_df.iloc[:,3:] will select all rows but your first 3 columns will be excluded.\n",
    "temp_df = cereals_df.iloc[:,3:].dropna(axis=0) # 1. Remove first three columns since they are of type object; and 2. drop any row with missing records\n",
    "temp_df.head()\n"
   ]
  },
  {
   "cell_type": "code",
   "execution_count": null,
   "metadata": {},
   "outputs": [],
   "source": [
    "#To generate correlation Matrix\n",
    "\n",
    "cormat = temp_df.? # ? corr()\n",
    "round(cormat,2) # round to two decimal places"
   ]
  },
  {
   "cell_type": "code",
   "execution_count": null,
   "metadata": {
    "colab": {
     "base_uri": "https://localhost:8080/",
     "height": 302
    },
    "id": "d0Ni8jypl4Ot",
    "outputId": "66e568a7-9e5e-44d6-b1b4-8eefab347cc6"
   },
   "outputs": [],
   "source": [
    "# How to generate correlation Heatmap?\n",
    "\n",
    "sns.?; # ? heatmap(cormat)"
   ]
  },
  {
   "cell_type": "markdown",
   "metadata": {},
   "source": [
    "# PCA"
   ]
  },
  {
   "cell_type": "markdown",
   "metadata": {},
   "source": [
    "## Covariance for two variables"
   ]
  },
  {
   "cell_type": "code",
   "execution_count": null,
   "metadata": {
    "colab": {
     "base_uri": "https://localhost:8080/",
     "height": 206
    },
    "id": "In9brjZba303",
    "outputId": "a5471c3d-bad2-49d4-e9d4-f02cceacf93e"
   },
   "outputs": [],
   "source": [
    "#Take only two variables\n",
    "\n",
    "X = cereals_df[[?]] # ? 'calories','rating'\n",
    "X.head()"
   ]
  },
  {
   "cell_type": "code",
   "execution_count": null,
   "metadata": {
    "colab": {
     "base_uri": "https://localhost:8080/"
    },
    "id": "63Rj_UAebJOn",
    "outputId": "1d32c447-9ecc-4706-919d-ee6bfdc40e90"
   },
   "outputs": [],
   "source": [
    "#Covariance Matrix\n",
    "\n",
    "np.cov(X['calories'],X['rating']) \n",
    "\n",
    "# Whats the difference between correlation and covariance?\n",
    "\n",
    "#Correlation Coefficient\n",
    "\n",
    "#np.corrcoef(X['calories'],X['rating']) \n",
    "\n"
   ]
  },
  {
   "cell_type": "code",
   "execution_count": null,
   "metadata": {},
   "outputs": [],
   "source": [
    "(379.63)/577 # 66% of variance is explained if we keep 'Calories' alone."
   ]
  },
  {
   "cell_type": "code",
   "execution_count": null,
   "metadata": {
    "colab": {
     "base_uri": "https://localhost:8080/",
     "height": 297
    },
    "id": "M-dO68SZgm-_",
    "outputId": "1301e83c-f56f-4f8a-c035-f738226860ca"
   },
   "outputs": [],
   "source": [
    "#Scatterplot\n",
    "\n",
    "sns.?(data = X, x = 'calories', y = 'rating', s = 70) # ? scatterplot"
   ]
  },
  {
   "cell_type": "markdown",
   "metadata": {},
   "source": [
    "## PCA with only 2 components to start with"
   ]
  },
  {
   "cell_type": "code",
   "execution_count": null,
   "metadata": {
    "colab": {
     "base_uri": "https://localhost:8080/"
    },
    "id": "F6wetOzfiBAB",
    "outputId": "668c374d-b7e6-479a-ec64-666222f1878f"
   },
   "outputs": [],
   "source": [
    "#PCA with two components\n",
    "\n",
    "pcs  = ?(n_components = 2) # ? PCA, Step 1. load the algorithm\n",
    "\n",
    "pcs.?(X) # fit, Step 2. fit the data"
   ]
  },
  {
   "cell_type": "code",
   "execution_count": null,
   "metadata": {},
   "outputs": [],
   "source": [
    "# What amount of variance is explained by the principal component?\n",
    "\n",
    "pcs.explained_variance_  # The amount of variance explained by each of the selected components."
   ]
  },
  {
   "cell_type": "code",
   "execution_count": null,
   "metadata": {},
   "outputs": [],
   "source": [
    "# In ratio?\n",
    "\n",
    "pcs.? # ? explained_variance_ratio_ Percentage of variance explained by each of the selected components."
   ]
  },
  {
   "cell_type": "code",
   "execution_count": null,
   "metadata": {},
   "outputs": [],
   "source": [
    "498.02447768/(498.02447768+78.93273879) # explained variance by first principal component"
   ]
  },
  {
   "cell_type": "code",
   "execution_count": null,
   "metadata": {
    "colab": {
     "base_uri": "https://localhost:8080/"
    },
    "id": "dssXfWS0ih3V",
    "outputId": "67451018-1848-4264-f6fc-bfa66c544428"
   },
   "outputs": [],
   "source": [
    "#PCS Summary\n",
    "\n",
    "#explained_variance_: The amount of variance explained by each of the selected components. \n",
    "#explained_variance_ratio_: Percentage of variance explained by each of the selected components.\n",
    "\n",
    "pcsSummary = pd.DataFrame({'Std. Deviation' : np.sqrt(pcs.explained_variance_), \n",
    "                           'Proportion of Variance': pcs.explained_variance_ratio_,\n",
    "                           'Cumulative Proportion': np.cumsum(pcs.explained_variance_ratio_)})\n",
    "\n",
    "#pcsSummary\n",
    "pcsSummary = pcsSummary.transpose()\n",
    "\n",
    "pcsSummary.columns = ['PC1', 'PC2']\n",
    "\n",
    "pcsSummary.round(2)"
   ]
  },
  {
   "cell_type": "code",
   "execution_count": null,
   "metadata": {},
   "outputs": [],
   "source": [
    "pcs.?  # ? components_   Weights of the princpal components, used to transform the raw data (changing the reference axis)"
   ]
  },
  {
   "cell_type": "markdown",
   "metadata": {},
   "source": [
    "## Further Analysis of PCA based on only two components"
   ]
  },
  {
   "cell_type": "code",
   "execution_count": null,
   "metadata": {
    "colab": {
     "base_uri": "https://localhost:8080/"
    },
    "id": "Q7x8LTVRhuNY",
    "outputId": "11b2c0ae-0fd9-4d40-e299-2e06384ba50b"
   },
   "outputs": [],
   "source": [
    "#PCS Weights\n",
    "\n",
    "#components_: Principal axes in feature space, representing the directions of maximum variance in the data. \n",
    "\n",
    "pcsComponents_df = pd.DataFrame(pcs.components_.transpose(), \n",
    "                                columns = ['PC1', 'PC2'],\n",
    "                                index = ['calories', 'rating'])\n",
    "print(pcsComponents_df)\n",
    "print(\"...\")\n"
   ]
  },
  {
   "cell_type": "code",
   "execution_count": null,
   "metadata": {
    "colab": {
     "base_uri": "https://localhost:8080/",
     "height": 206
    },
    "id": "miGUjkV_jqBP",
    "outputId": "33060a9d-d2dc-4b2c-c3b8-d8f7af67961a"
   },
   "outputs": [],
   "source": [
    "X.head() # how the raw data looks"
   ]
  },
  {
   "cell_type": "code",
   "execution_count": null,
   "metadata": {
    "colab": {
     "base_uri": "https://localhost:8080/"
    },
    "id": "w59lmsMLkG1U",
    "outputId": "3fd36169-406e-4486-ddf5-9c3cc7c440fc"
   },
   "outputs": [],
   "source": [
    "X.mean() "
   ]
  },
  {
   "cell_type": "code",
   "execution_count": null,
   "metadata": {
    "colab": {
     "base_uri": "https://localhost:8080/"
    },
    "id": "WU9DqAVUjsuh",
    "outputId": "78a15665-7469-41c7-f93f-d645821c02da"
   },
   "outputs": [],
   "source": [
    "# Values of PC1 for first observation\n",
    "\n",
    "# pc1_weight_cal * (X - Xbar) + pc1_weight_rat * (Y - ybar)\n",
    "print((-0.847053*(70-106.88)) + (0.531508*(68.40-42.66)))"
   ]
  },
  {
   "cell_type": "code",
   "execution_count": null,
   "metadata": {
    "colab": {
     "base_uri": "https://localhost:8080/"
    },
    "id": "goRByoYMkrlV",
    "outputId": "7825a75d-683e-4f53-e9b8-643ee2e9034f"
   },
   "outputs": [],
   "source": [
    "# Values of PC2 for first observation\n",
    "\n",
    "# pc2_weight_cal * (X - Xbar) + pc2_weight_rat * (Y - ybar)\n",
    "print((0.531508*(70-106.88)) + (0.847053*(68.40-42.666)))"
   ]
  },
  {
   "cell_type": "code",
   "execution_count": null,
   "metadata": {
    "colab": {
     "base_uri": "https://localhost:8080/",
     "height": 206
    },
    "id": "9H67J_7OiwmU",
    "outputId": "ed60ccc8-9109-442a-ca6f-68ef3fe6dccf"
   },
   "outputs": [],
   "source": [
    "#transform: Apply dimensionality reduction to all observations under X.\n",
    "\n",
    "scores = pd.DataFrame(pcs.transform(cereals_df[['calories','rating']]),\n",
    "                      columns = ['PC1','PC2'])\n",
    "scores.head() # displaying transformed values of first five observations under X"
   ]
  },
  {
   "cell_type": "code",
   "execution_count": null,
   "metadata": {
    "colab": {
     "base_uri": "https://localhost:8080/"
    },
    "id": "W-8LYs8MmDA6",
    "outputId": "2de53e57-900a-4e42-cb2f-04130dcb7dc3"
   },
   "outputs": [],
   "source": [
    "#Check the variance\n",
    "\n",
    "print(np.var(X['calories']) + np.var(X['rating'])) # Total variance for raw data (calories,ratings) \n",
    "print(np.var(scores['PC1']) + np.var(scores['PC2'])) # Total variance for transformed data (PC1,PC2)\n",
    "\n",
    "# Total variance is same for raw data (calories,ratings) and transformed data (PC1,PC2) i.e. 569.46"
   ]
  },
  {
   "cell_type": "code",
   "execution_count": null,
   "metadata": {
    "id": "3qN-b6LQm62p"
   },
   "outputs": [],
   "source": [
    "# But note 86% variance is explained by PC1, compared to 66% of 'Calories' alone!\n",
    "\n",
    "print(np.var(X['calories'])/(np.var(X['calories']) + np.var(X['rating'])))  # % of total variance explained by calories alone \n",
    "\n",
    "print(np.var(scores['PC1'])/(np.var(scores['PC1']) + np.var(scores['PC2']))) # % of total variance explained by PC1 alone "
   ]
  },
  {
   "cell_type": "markdown",
   "metadata": {
    "id": "6clvVF_2oXXx"
   },
   "source": [
    "## PCA for Full Dataset \n",
    "(PCA applicable for only numerical data and only independent variables i.e. X)"
   ]
  },
  {
   "cell_type": "code",
   "execution_count": null,
   "metadata": {
    "colab": {
     "base_uri": "https://localhost:8080/"
    },
    "id": "QyAlr2Ydjf1P",
    "outputId": "8454d8cf-edd4-4b1d-86d7-dc828da195bc"
   },
   "outputs": [],
   "source": [
    "pcs  = ? # ? PCA()\n",
    "pcs.?(cereals_df.iloc[:,3:].dropna(axis=0)) # ? fit, dropped first 3 columns, since PCA cannot be applied on categorical data\n",
    "pcsSummary_df = pd.DataFrame({'Std. Deviation' : np.sqrt(pcs.explained_variance_),\n",
    "                           'Proportion of Variance': pcs.explained_variance_ratio_,\n",
    "                           'Cumulative proportion': np.cumsum(pcs.explained_variance_ratio_)})\n",
    "pcsSummary_df = pcsSummary_df.transpose()\n",
    "\n",
    "pcsSummary_df.columns = ['PC{}'.format(i) for i in range(1, len(pcsSummary_df.columns)+1)] # Setting the column names by number of components\n",
    "print(pcsSummary_df.round(2))\n"
   ]
  },
  {
   "cell_type": "code",
   "execution_count": null,
   "metadata": {
    "colab": {
     "base_uri": "https://localhost:8080/",
     "height": 295
    },
    "id": "uMvtwgjCpKF0",
    "outputId": "fda3af4b-225f-49f9-caa0-3fa4811ac80f"
   },
   "outputs": [],
   "source": [
    "# Screeplot - plot variance explained component wise\n",
    "\n",
    "PC_values = np.arange(pcs.n_components_) + 1\n",
    "plt.plot(PC_values, pcs.explained_variance_ratio_, 'o-', linewidth=2)\n",
    "plt.title('Scree Plot')\n",
    "plt.xlabel('Principal Component')\n",
    "plt.ylabel('Variance Explained')\n",
    "plt.show()"
   ]
  },
  {
   "cell_type": "code",
   "execution_count": null,
   "metadata": {
    "colab": {
     "base_uri": "https://localhost:8080/",
     "height": 279
    },
    "id": "ktCsVi8SpuS3",
    "outputId": "718fb629-7943-4735-ed4c-1e5641ba3358"
   },
   "outputs": [],
   "source": [
    "# Cumulative Explained Variance Ratio plot\n",
    "\n",
    "plt.plot(PC_values, np.cumsum(pcs.explained_variance_ratio_), 'o-',linewidth=2)\n",
    "plt.xlabel('number of components')\n",
    "plt.ylabel('cumulative explained variance');"
   ]
  },
  {
   "cell_type": "code",
   "execution_count": null,
   "metadata": {
    "colab": {
     "base_uri": "https://localhost:8080/"
    },
    "id": "1N2ytskelFWn",
    "outputId": "2f43eda0-7ac6-4d90-d1ea-3fade7c2ba13"
   },
   "outputs": [],
   "source": [
    "#Now lets see the weights of first five PCs! \n",
    "\n",
    "pcsComponents_df = pd.DataFrame(pcs.components_.transpose(), \n",
    "                                columns = pcsSummary_df.columns,\n",
    "                                index = cereals_df.iloc[:,3:].columns)\n",
    "print(pcsComponents_df.iloc[:,:]) # ? 0:5"
   ]
  },
  {
   "cell_type": "markdown",
   "metadata": {
    "id": "w309rvBAnw8t"
   },
   "source": [
    "## May Further Explore\n",
    "### What are the important factors contributing to PC1, PC2...Does that make sense?\n",
    "### Normalisation (or Standardisation)\n",
    "### Linear Regression\n",
    "### Visualization of PCA"
   ]
  }
 ],
 "metadata": {
  "colab": {
   "collapsed_sections": [],
   "name": "BDA_PCA.ipynb",
   "provenance": []
  },
  "kernelspec": {
   "display_name": "Python 3 (ipykernel)",
   "language": "python",
   "name": "python3"
  },
  "language_info": {
   "codemirror_mode": {
    "name": "ipython",
    "version": 3
   },
   "file_extension": ".py",
   "mimetype": "text/x-python",
   "name": "python",
   "nbconvert_exporter": "python",
   "pygments_lexer": "ipython3",
   "version": "3.9.12"
  }
 },
 "nbformat": 4,
 "nbformat_minor": 1
}
